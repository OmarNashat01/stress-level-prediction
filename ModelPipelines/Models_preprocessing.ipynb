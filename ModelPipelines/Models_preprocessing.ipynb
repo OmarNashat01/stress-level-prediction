{
 "cells": [
  {
   "cell_type": "code",
   "execution_count": 1,
   "metadata": {},
   "outputs": [],
   "source": [
    "from Models import (\n",
    "    read_data,\n",
    "    data_formatting,\n",
    "    Grid_Search,\n",
    "    lr_model,\n",
    "    ovr_model,\n",
    "    naive_model,\n",
    "    mlp_model,\n",
    "    decision_tree_model\n",
    ")"
   ]
  },
  {
   "cell_type": "markdown",
   "metadata": {},
   "source": [
    "## Start training without preprocessing\n",
    "\n",
    "> Naive Bayes model can't take negative values, so we can't use the original data directly "
   ]
  },
  {
   "cell_type": "code",
   "execution_count": 2,
   "metadata": {},
   "outputs": [],
   "source": [
    "train_data, test_data = read_data(data_preprocessed=True)\n",
    "train_data, test_data = data_formatting(train_data, test_data)"
   ]
  },
  {
   "cell_type": "code",
   "execution_count": 3,
   "metadata": {},
   "outputs": [
    {
     "name": "stdout",
     "output_type": "stream",
     "text": [
      "Best hyperparameters:\n",
      "elasticNetParam: 0.0\n",
      "maxIter: 100\n",
      "Training Accuracy: 0.6363552664715169\n",
      "Test Accuracy: 0.6355372505056905\n"
     ]
    }
   ],
   "source": [
    "lr_best = Grid_Search(train_data, test_data, model_type='lr')"
   ]
  },
  {
   "cell_type": "code",
   "execution_count": 4,
   "metadata": {},
   "outputs": [
    {
     "name": "stdout",
     "output_type": "stream",
     "text": [
      "Test Accuracy: 0.5873808885531158\n"
     ]
    }
   ],
   "source": [
    "lsvc_best = ovr_model(train_data, test_data)"
   ]
  },
  {
   "cell_type": "code",
   "execution_count": 5,
   "metadata": {},
   "outputs": [
    {
     "name": "stdout",
     "output_type": "stream",
     "text": [
      "Best hyperparameters:\n",
      "maxDepth: 20\n",
      "maxBins: 64\n",
      "Training Accuracy: 0.9990089063037351\n",
      "Test Accuracy: 0.9987327273170375\n"
     ]
    }
   ],
   "source": [
    "dt_best = Grid_Search(train_data, test_data, model_type='dt')"
   ]
  },
  {
   "cell_type": "code",
   "execution_count": 6,
   "metadata": {},
   "outputs": [
    {
     "name": "stdout",
     "output_type": "stream",
     "text": [
      "Test Accuracy: 0.6114199332959801\n"
     ]
    }
   ],
   "source": [
    "mlp_best = mlp_model(train_data, test_data)"
   ]
  },
  {
   "cell_type": "markdown",
   "metadata": {},
   "source": [
    "## Pre-process data and train again"
   ]
  },
  {
   "cell_type": "code",
   "execution_count": 7,
   "metadata": {},
   "outputs": [],
   "source": [
    "train_data, test_data = read_data(preprocess=\"normalize\", data_preprocessed=True)\n",
    "train_data, test_data = data_formatting(train_data, test_data)"
   ]
  },
  {
   "cell_type": "code",
   "execution_count": 8,
   "metadata": {},
   "outputs": [
    {
     "name": "stdout",
     "output_type": "stream",
     "text": [
      "Best hyperparameters:\n",
      "elasticNetParam: 0.0\n",
      "maxIter: 100\n",
      "Training Accuracy: 0.6363552664715169\n",
      "Test Accuracy: 0.638096166500134\n"
     ]
    }
   ],
   "source": [
    "lr_best_preprocessed = Grid_Search(train_data, test_data, model_type='lr')"
   ]
  },
  {
   "cell_type": "code",
   "execution_count": 9,
   "metadata": {},
   "outputs": [
    {
     "name": "stdout",
     "output_type": "stream",
     "text": [
      "Test Accuracy: 0.5864304340408939\n"
     ]
    }
   ],
   "source": [
    "lsvc_best_preprocessed = ovr_model(train_data, test_data)"
   ]
  },
  {
   "cell_type": "code",
   "execution_count": 10,
   "metadata": {},
   "outputs": [
    {
     "name": "stdout",
     "output_type": "stream",
     "text": [
      "Best hyperparameters:\n",
      "maxDepth: 20\n",
      "maxBins: 64\n",
      "Training Accuracy: 0.9990061983974611\n",
      "Test Accuracy: 0.9870104549996345\n"
     ]
    }
   ],
   "source": [
    "dt_best_preprocessed = Grid_Search(train_data, test_data, model_type='dt')"
   ]
  },
  {
   "cell_type": "code",
   "execution_count": 11,
   "metadata": {},
   "outputs": [
    {
     "name": "stdout",
     "output_type": "stream",
     "text": [
      "Best hyperparameters:\n",
      "smoothing: 0.0\n",
      "modelType: multinomial\n",
      "Training Accuracy: 0.541803303104073\n",
      "Test Accuracy: 0.5400043867131333\n"
     ]
    }
   ],
   "source": [
    "nb_best = Grid_Search(train_data, test_data, model_type='nb')"
   ]
  },
  {
   "cell_type": "code",
   "execution_count": 12,
   "metadata": {},
   "outputs": [
    {
     "name": "stdout",
     "output_type": "stream",
     "text": [
      "Test Accuracy: 0.6104890989756291\n"
     ]
    }
   ],
   "source": [
    "mlp_best = mlp_model(train_data, test_data)"
   ]
  },
  {
   "cell_type": "code",
   "execution_count": null,
   "metadata": {},
   "outputs": [],
   "source": []
  }
 ],
 "metadata": {
  "kernelspec": {
   "display_name": "Python 3",
   "language": "python",
   "name": "python3"
  },
  "language_info": {
   "codemirror_mode": {
    "name": "ipython",
    "version": 3
   },
   "file_extension": ".py",
   "mimetype": "text/x-python",
   "name": "python",
   "nbconvert_exporter": "python",
   "pygments_lexer": "ipython3",
   "version": "3.10.11"
  }
 },
 "nbformat": 4,
 "nbformat_minor": 2
}
