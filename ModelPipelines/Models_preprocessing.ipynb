{
 "cells": [
  {
   "cell_type": "code",
   "execution_count": 1,
   "metadata": {},
   "outputs": [],
   "source": [
    "from Models import (\n",
    "    read_data,\n",
    "    data_formatting,\n",
    "    Grid_Search,\n",
    "    ovr_model,\n",
    "    mlp_model,\n",
    ")"
   ]
  },
  {
   "cell_type": "markdown",
   "metadata": {},
   "source": [
    "## Start training without preprocessing\n",
    "\n",
    "> Naive Bayes model can't take negative values, so we can't use the original data directly "
   ]
  },
  {
   "cell_type": "code",
   "execution_count": 2,
   "metadata": {},
   "outputs": [],
   "source": [
    "train_data, test_data = read_data(data_preprocessed=True)\n",
    "train_data, test_data = data_formatting(train_data, test_data)"
   ]
  },
  {
   "cell_type": "code",
   "execution_count": 3,
   "metadata": {},
   "outputs": [
    {
     "name": "stdout",
     "output_type": "stream",
     "text": [
      "Best hyperparameters:\n",
      "elasticNetParam: 0.0\n",
      "maxIter: 10\n",
      "Training Accuracy: 0.6353173546919615\n",
      "Test Accuracy: 0.6320577931071942\n"
     ]
    }
   ],
   "source": [
    "lr_best = Grid_Search(train_data, test_data, model_type='lr')"
   ]
  },
  {
   "cell_type": "code",
   "execution_count": 4,
   "metadata": {},
   "outputs": [
    {
     "name": "stdout",
     "output_type": "stream",
     "text": [
      "Test Accuracy: 0.6055240216180984\n"
     ]
    }
   ],
   "source": [
    "lsvc_best = ovr_model(train_data, test_data)"
   ]
  },
  {
   "cell_type": "code",
   "execution_count": 5,
   "metadata": {},
   "outputs": [
    {
     "name": "stdout",
     "output_type": "stream",
     "text": [
      "Best hyperparameters:\n",
      "maxDepth: 20\n",
      "maxBins: 64\n",
      "Training Accuracy: 0.9985844262691768\n",
      "Test Accuracy: 0.9984791287580457\n"
     ]
    }
   ],
   "source": [
    "dt_best = Grid_Search(train_data, test_data, model_type='dt')"
   ]
  },
  {
   "cell_type": "code",
   "execution_count": 6,
   "metadata": {},
   "outputs": [
    {
     "name": "stdout",
     "output_type": "stream",
     "text": [
      "Test Accuracy: 0.5747191882579081\n"
     ]
    }
   ],
   "source": [
    "mlp_best = mlp_model(train_data, test_data)"
   ]
  },
  {
   "cell_type": "markdown",
   "metadata": {},
   "source": [
    "## Pre-process data and train again"
   ]
  },
  {
   "cell_type": "code",
   "execution_count": 7,
   "metadata": {},
   "outputs": [],
   "source": [
    "train_data, test_data = read_data(preprocess=\"normalize\", data_preprocessed=True)\n",
    "train_data, test_data = data_formatting(train_data, test_data)"
   ]
  },
  {
   "cell_type": "code",
   "execution_count": 8,
   "metadata": {},
   "outputs": [
    {
     "name": "stdout",
     "output_type": "stream",
     "text": [
      "Best hyperparameters:\n",
      "elasticNetParam: 0.0\n",
      "maxIter: 10\n",
      "Training Accuracy: 0.6353173546919615\n",
      "Test Accuracy: 0.632954020803346\n"
     ]
    }
   ],
   "source": [
    "lr_best_preprocessed = Grid_Search(train_data, test_data, model_type='lr')"
   ]
  },
  {
   "cell_type": "code",
   "execution_count": 9,
   "metadata": {},
   "outputs": [
    {
     "name": "stdout",
     "output_type": "stream",
     "text": [
      "Test Accuracy: 0.6040846256212488\n"
     ]
    }
   ],
   "source": [
    "lsvc_best_preprocessed = ovr_model(train_data, test_data)"
   ]
  },
  {
   "cell_type": "code",
   "execution_count": 10,
   "metadata": {},
   "outputs": [
    {
     "name": "stdout",
     "output_type": "stream",
     "text": [
      "Best hyperparameters:\n",
      "maxDepth: 20\n",
      "maxBins: 64\n",
      "Training Accuracy: 0.9985844262691768\n",
      "Test Accuracy: 0.9869368023682138\n"
     ]
    }
   ],
   "source": [
    "dt_best_preprocessed = Grid_Search(train_data, test_data, model_type='dt')"
   ]
  },
  {
   "cell_type": "code",
   "execution_count": 11,
   "metadata": {},
   "outputs": [
    {
     "name": "stdout",
     "output_type": "stream",
     "text": [
      "Best hyperparameters:\n",
      "smoothing: 0.0\n",
      "modelType: multinomial\n",
      "Training Accuracy: 0.5614292455113004\n",
      "Test Accuracy: 0.5588387061731077\n"
     ]
    }
   ],
   "source": [
    "nb_best = Grid_Search(train_data, test_data, model_type='nb')"
   ]
  },
  {
   "cell_type": "code",
   "execution_count": 12,
   "metadata": {},
   "outputs": [
    {
     "name": "stdout",
     "output_type": "stream",
     "text": [
      "Test Accuracy: 0.5882724125328423\n"
     ]
    }
   ],
   "source": [
    "mlp_best = mlp_model(train_data, test_data)"
   ]
  }
 ],
 "metadata": {
  "kernelspec": {
   "display_name": "Python 3",
   "language": "python",
   "name": "python3"
  },
  "language_info": {
   "codemirror_mode": {
    "name": "ipython",
    "version": 3
   },
   "file_extension": ".py",
   "mimetype": "text/x-python",
   "name": "python",
   "nbconvert_exporter": "python",
   "pygments_lexer": "ipython3",
   "version": "3.10.11"
  }
 },
 "nbformat": 4,
 "nbformat_minor": 2
}
