{
 "cells": [
  {
   "cell_type": "code",
   "execution_count": 1,
   "metadata": {},
   "outputs": [],
   "source": [
    "from Models import (\n",
    "    read_data,\n",
    "    data_formatting,\n",
    "    Grid_Search,\n",
    "    ovr_model,\n",
    "    mlp_model,\n",
    ")"
   ]
  },
  {
   "cell_type": "markdown",
   "metadata": {},
   "source": [
    "## Start training without preprocessing\n",
    "\n",
    "> Naive Bayes model can't take negative values, so we can't use the original data directly "
   ]
  },
  {
   "cell_type": "code",
   "execution_count": 2,
   "metadata": {},
   "outputs": [],
   "source": [
    "train_data, test_data = read_data()\n",
    "train_data, test_data = data_formatting(train_data, test_data)"
   ]
  },
  {
   "cell_type": "code",
   "execution_count": 3,
   "metadata": {},
   "outputs": [
    {
     "name": "stdout",
     "output_type": "stream",
     "text": [
      "Best hyperparameters:\n",
      "elasticNetParam: 0.0\n",
      "maxIter: 100\n",
      "Training Accuracy: 0.6267059478294537\n",
      "Test Accuracy: 0.6254039814236441\n"
     ]
    }
   ],
   "source": [
    "lr_best = Grid_Search(train_data, test_data, model_type='lr')"
   ]
  },
  {
   "cell_type": "code",
   "execution_count": 4,
   "metadata": {},
   "outputs": [
    {
     "name": "stdout",
     "output_type": "stream",
     "text": [
      "Test Accuracy: 0.5916732299503001\n"
     ]
    }
   ],
   "source": [
    "lsvc_best = ovr_model(train_data, test_data)"
   ]
  },
  {
   "cell_type": "code",
   "execution_count": 5,
   "metadata": {},
   "outputs": [
    {
     "name": "stdout",
     "output_type": "stream",
     "text": [
      "Best hyperparameters:\n",
      "maxDepth: 20\n",
      "maxBins: 128\n",
      "Training Accuracy: 0.9998306151091323\n",
      "Test Accuracy: 0.9992938812090927\n"
     ]
    }
   ],
   "source": [
    "dt_best = Grid_Search(train_data, test_data, model_type='dt')"
   ]
  },
  {
   "cell_type": "code",
   "execution_count": 6,
   "metadata": {},
   "outputs": [
    {
     "name": "stdout",
     "output_type": "stream",
     "text": [
      "Test Accuracy: 0.613185879067061\n"
     ]
    }
   ],
   "source": [
    "mlp_best = mlp_model(train_data, test_data)"
   ]
  },
  {
   "cell_type": "markdown",
   "metadata": {},
   "source": [
    "## Pre-process data and train again"
   ]
  },
  {
   "cell_type": "code",
   "execution_count": 7,
   "metadata": {},
   "outputs": [],
   "source": [
    "train_data, test_data = read_data(preprocess=\"normalize\")\n",
    "train_data, test_data = data_formatting(train_data, test_data)"
   ]
  },
  {
   "cell_type": "code",
   "execution_count": 8,
   "metadata": {},
   "outputs": [
    {
     "name": "stdout",
     "output_type": "stream",
     "text": [
      "Best hyperparameters:\n",
      "elasticNetParam: 0.0\n",
      "maxIter: 100\n",
      "Training Accuracy: 0.6267059478294537\n",
      "Test Accuracy: 0.6234214171260966\n"
     ]
    }
   ],
   "source": [
    "lr_best_preprocessed = Grid_Search(train_data, test_data, model_type='lr')"
   ]
  },
  {
   "cell_type": "code",
   "execution_count": 9,
   "metadata": {},
   "outputs": [
    {
     "name": "stdout",
     "output_type": "stream",
     "text": [
      "Test Accuracy: 0.590912794329323\n"
     ]
    }
   ],
   "source": [
    "lsvc_best_preprocessed = ovr_model(train_data, test_data)"
   ]
  },
  {
   "cell_type": "code",
   "execution_count": 10,
   "metadata": {},
   "outputs": [
    {
     "name": "stdout",
     "output_type": "stream",
     "text": [
      "Best hyperparameters:\n",
      "maxDepth: 20\n",
      "maxBins: 128\n",
      "Training Accuracy: 0.9997882688864154\n",
      "Test Accuracy: 0.9722440998343337\n"
     ]
    }
   ],
   "source": [
    "dt_best_preprocessed = Grid_Search(train_data, test_data, model_type='dt')"
   ]
  },
  {
   "cell_type": "code",
   "execution_count": 11,
   "metadata": {},
   "outputs": [
    {
     "name": "stdout",
     "output_type": "stream",
     "text": [
      "Best hyperparameters:\n",
      "smoothing: 0.0\n",
      "modelType: multinomial\n",
      "Training Accuracy: 0.5629416106083337\n",
      "Test Accuracy: 0.5604682110752016\n"
     ]
    }
   ],
   "source": [
    "nb_best = Grid_Search(train_data, test_data, model_type='nb')"
   ]
  },
  {
   "cell_type": "code",
   "execution_count": 12,
   "metadata": {},
   "outputs": [
    {
     "name": "stdout",
     "output_type": "stream",
     "text": [
      "Test Accuracy: 0.5853660256433445\n"
     ]
    }
   ],
   "source": [
    "mlp_best = mlp_model(train_data, test_data)"
   ]
  }
 ],
 "metadata": {
  "kernelspec": {
   "display_name": "Python 3",
   "language": "python",
   "name": "python3"
  },
  "language_info": {
   "codemirror_mode": {
    "name": "ipython",
    "version": 3
   },
   "file_extension": ".py",
   "mimetype": "text/x-python",
   "name": "python",
   "nbconvert_exporter": "python",
   "pygments_lexer": "ipython3",
   "version": "3.10.11"
  }
 },
 "nbformat": 4,
 "nbformat_minor": 2
}
