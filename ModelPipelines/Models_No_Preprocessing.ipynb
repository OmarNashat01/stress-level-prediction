{
 "cells": [
  {
   "cell_type": "code",
   "execution_count": 1,
   "metadata": {},
   "outputs": [],
   "source": [
    "from Models import (\n",
    "    read_data,\n",
    "    data_formatting,\n",
    "    Grid_Search,\n",
    "    lr_model,\n",
    "    ovr_model,\n",
    "    naive_model,\n",
    "    mlp_model,\n",
    "    decision_tree_model\n",
    ")"
   ]
  },
  {
   "cell_type": "markdown",
   "metadata": {},
   "source": [
    "## Start training without preprocessing\n",
    "\n",
    "> Naive Bayes model can't take negative values, so we can't use the original data directly "
   ]
  },
  {
   "cell_type": "code",
   "execution_count": 2,
   "metadata": {},
   "outputs": [],
   "source": [
    "train_data, test_data = read_data()\n",
    "train_data, test_data = data_formatting(train_data, test_data)"
   ]
  },
  {
   "cell_type": "code",
   "execution_count": 3,
   "metadata": {},
   "outputs": [
    {
     "name": "stdout",
     "output_type": "stream",
     "text": [
      "Best regParam: 0.0\n",
      "Best maxIter: 100\n",
      "Training Accuracy: 0.6306226288895689\n",
      "Test Accuracy: 0.631637949942729\n"
     ]
    }
   ],
   "source": [
    "lr_best = Grid_Search(train_data, test_data, model_type='lr')"
   ]
  },
  {
   "cell_type": "code",
   "execution_count": 32,
   "metadata": {},
   "outputs": [
    {
     "name": "stdout",
     "output_type": "stream",
     "text": [
      "Test Accuracy: 0.5760972875490459\n"
     ]
    }
   ],
   "source": [
    "lsvc_best = ovr_model(train_data, test_data)"
   ]
  },
  {
   "cell_type": "code",
   "execution_count": 4,
   "metadata": {},
   "outputs": [
    {
     "name": "stdout",
     "output_type": "stream",
     "text": [
      "Best hyperparameters:\n",
      "maxDepth: 20\n",
      "maxBins: 64\n",
      "Training Accuracy: 0.9982913111411388\n",
      "Test Accuracy: 0.9977579021762971\n"
     ]
    }
   ],
   "source": [
    "dt_best = Grid_Search(train_data, test_data, model_type='dt')"
   ]
  },
  {
   "cell_type": "code",
   "execution_count": 3,
   "metadata": {},
   "outputs": [
    {
     "name": "stdout",
     "output_type": "stream",
     "text": [
      "Test Accuracy: 0.5859564527972069\n"
     ]
    }
   ],
   "source": [
    "mlp_best = mlp_model(train_data, test_data)"
   ]
  },
  {
   "cell_type": "markdown",
   "metadata": {},
   "source": [
    "## Pre-process data and train again"
   ]
  },
  {
   "cell_type": "code",
   "execution_count": 4,
   "metadata": {},
   "outputs": [],
   "source": [
    "train_data, test_data = read_data(preprocess=\"normalize\")\n",
    "train_data, test_data = data_formatting(train_data, test_data)"
   ]
  },
  {
   "cell_type": "code",
   "execution_count": 6,
   "metadata": {},
   "outputs": [
    {
     "name": "stdout",
     "output_type": "stream",
     "text": [
      "Best regParam: 0.0\n",
      "Best maxIter: 100\n",
      "Training Accuracy: 0.6306226288895689\n",
      "Test Accuracy: 0.6336607121097653\n"
     ]
    }
   ],
   "source": [
    "lr_best_preprocessed = Grid_Search(train_data, test_data, model_type='lr')"
   ]
  },
  {
   "cell_type": "code",
   "execution_count": 5,
   "metadata": {},
   "outputs": [
    {
     "name": "stdout",
     "output_type": "stream",
     "text": [
      "Test Accuracy: 0.5763166232057125\n"
     ]
    }
   ],
   "source": [
    "lsvc_best_preprocessed = ovr_model(train_data, test_data)"
   ]
  },
  {
   "cell_type": "code",
   "execution_count": 4,
   "metadata": {},
   "outputs": [
    {
     "name": "stdout",
     "output_type": "stream",
     "text": [
      "Best hyperparameters:\n",
      "maxDepth: 20\n",
      "maxBins: 32\n",
      "Training Accuracy: 0.9982615241721253\n",
      "Test Accuracy: 0.973216679258158\n"
     ]
    }
   ],
   "source": [
    "dt_best_preprocessed = Grid_Search(train_data, test_data, model_type='dt')"
   ]
  },
  {
   "cell_type": "code",
   "execution_count": 3,
   "metadata": {},
   "outputs": [
    {
     "name": "stdout",
     "output_type": "stream",
     "text": [
      "Best hyperparameters:\n",
      "smoothing: 0.0\n",
      "modelType: multinomial\n",
      "Training Accuracy: 0.5431762115849647\n",
      "Test Accuracy: 0.5414666244242439\n"
     ]
    }
   ],
   "source": [
    "nb_best = Grid_Search(train_data, test_data, model_type='nb')"
   ]
  },
  {
   "cell_type": "code",
   "execution_count": 4,
   "metadata": {},
   "outputs": [
    {
     "name": "stdout",
     "output_type": "stream",
     "text": [
      "Test Accuracy: 0.5893958737393432\n"
     ]
    }
   ],
   "source": [
    "mlp_best = mlp_model(train_data, test_data)"
   ]
  },
  {
   "cell_type": "code",
   "execution_count": null,
   "metadata": {},
   "outputs": [],
   "source": []
  }
 ],
 "metadata": {
  "kernelspec": {
   "display_name": "Python 3",
   "language": "python",
   "name": "python3"
  },
  "language_info": {
   "codemirror_mode": {
    "name": "ipython",
    "version": 3
   },
   "file_extension": ".py",
   "mimetype": "text/x-python",
   "name": "python",
   "nbconvert_exporter": "python",
   "pygments_lexer": "ipython3",
   "version": "3.10.11"
  }
 },
 "nbformat": 4,
 "nbformat_minor": 2
}
